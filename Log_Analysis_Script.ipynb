{
  "nbformat": 4,
  "nbformat_minor": 0,
  "metadata": {
    "colab": {
      "provenance": []
    },
    "kernelspec": {
      "name": "python3",
      "display_name": "Python 3"
    },
    "language_info": {
      "name": "python"
    }
  },
  "cells": [
    {
      "cell_type": "markdown",
      "source": [
        "Install Dependencies and Import Libraries\n",
        "\n",
        "\n",
        "\n"
      ],
      "metadata": {
        "id": "aMO03Rl1Clb9"
      }
    },
    {
      "cell_type": "code",
      "execution_count": 1,
      "metadata": {
        "id": "kJ2e5kRZ9drr"
      },
      "outputs": [],
      "source": [
        "import re\n",
        "import csv\n",
        "from collections import defaultdict\n",
        "from google.colab import files"
      ]
    },
    {
      "cell_type": "markdown",
      "source": [
        "Upload Log File"
      ],
      "metadata": {
        "id": "HD9CdOD6CqF6"
      }
    },
    {
      "cell_type": "code",
      "source": [
        "uploaded = files.upload()\n",
        "\n",
        "# The uploaded file will be stored as 'sample.log'\n",
        "LOG_FILE = list(uploaded.keys())[0]\n",
        "FAILED_LOGIN_THRESHOLD = 10  # Threshold for detecting suspicious activity\n",
        "OUTPUT_FILE = \"log_analysis_results.csv\"\n"
      ],
      "metadata": {
        "colab": {
          "base_uri": "https://localhost:8080/",
          "height": 73
        },
        "id": "ezLQXoOZ9mx8",
        "outputId": "756e12a6-c2c8-4a7e-8b45-3685fcd3f54c"
      },
      "execution_count": 2,
      "outputs": [
        {
          "output_type": "display_data",
          "data": {
            "text/plain": [
              "<IPython.core.display.HTML object>"
            ],
            "text/html": [
              "\n",
              "     <input type=\"file\" id=\"files-1c6e289c-d915-447d-b73d-53015b590ea0\" name=\"files[]\" multiple disabled\n",
              "        style=\"border:none\" />\n",
              "     <output id=\"result-1c6e289c-d915-447d-b73d-53015b590ea0\">\n",
              "      Upload widget is only available when the cell has been executed in the\n",
              "      current browser session. Please rerun this cell to enable.\n",
              "      </output>\n",
              "      <script>// Copyright 2017 Google LLC\n",
              "//\n",
              "// Licensed under the Apache License, Version 2.0 (the \"License\");\n",
              "// you may not use this file except in compliance with the License.\n",
              "// You may obtain a copy of the License at\n",
              "//\n",
              "//      http://www.apache.org/licenses/LICENSE-2.0\n",
              "//\n",
              "// Unless required by applicable law or agreed to in writing, software\n",
              "// distributed under the License is distributed on an \"AS IS\" BASIS,\n",
              "// WITHOUT WARRANTIES OR CONDITIONS OF ANY KIND, either express or implied.\n",
              "// See the License for the specific language governing permissions and\n",
              "// limitations under the License.\n",
              "\n",
              "/**\n",
              " * @fileoverview Helpers for google.colab Python module.\n",
              " */\n",
              "(function(scope) {\n",
              "function span(text, styleAttributes = {}) {\n",
              "  const element = document.createElement('span');\n",
              "  element.textContent = text;\n",
              "  for (const key of Object.keys(styleAttributes)) {\n",
              "    element.style[key] = styleAttributes[key];\n",
              "  }\n",
              "  return element;\n",
              "}\n",
              "\n",
              "// Max number of bytes which will be uploaded at a time.\n",
              "const MAX_PAYLOAD_SIZE = 100 * 1024;\n",
              "\n",
              "function _uploadFiles(inputId, outputId) {\n",
              "  const steps = uploadFilesStep(inputId, outputId);\n",
              "  const outputElement = document.getElementById(outputId);\n",
              "  // Cache steps on the outputElement to make it available for the next call\n",
              "  // to uploadFilesContinue from Python.\n",
              "  outputElement.steps = steps;\n",
              "\n",
              "  return _uploadFilesContinue(outputId);\n",
              "}\n",
              "\n",
              "// This is roughly an async generator (not supported in the browser yet),\n",
              "// where there are multiple asynchronous steps and the Python side is going\n",
              "// to poll for completion of each step.\n",
              "// This uses a Promise to block the python side on completion of each step,\n",
              "// then passes the result of the previous step as the input to the next step.\n",
              "function _uploadFilesContinue(outputId) {\n",
              "  const outputElement = document.getElementById(outputId);\n",
              "  const steps = outputElement.steps;\n",
              "\n",
              "  const next = steps.next(outputElement.lastPromiseValue);\n",
              "  return Promise.resolve(next.value.promise).then((value) => {\n",
              "    // Cache the last promise value to make it available to the next\n",
              "    // step of the generator.\n",
              "    outputElement.lastPromiseValue = value;\n",
              "    return next.value.response;\n",
              "  });\n",
              "}\n",
              "\n",
              "/**\n",
              " * Generator function which is called between each async step of the upload\n",
              " * process.\n",
              " * @param {string} inputId Element ID of the input file picker element.\n",
              " * @param {string} outputId Element ID of the output display.\n",
              " * @return {!Iterable<!Object>} Iterable of next steps.\n",
              " */\n",
              "function* uploadFilesStep(inputId, outputId) {\n",
              "  const inputElement = document.getElementById(inputId);\n",
              "  inputElement.disabled = false;\n",
              "\n",
              "  const outputElement = document.getElementById(outputId);\n",
              "  outputElement.innerHTML = '';\n",
              "\n",
              "  const pickedPromise = new Promise((resolve) => {\n",
              "    inputElement.addEventListener('change', (e) => {\n",
              "      resolve(e.target.files);\n",
              "    });\n",
              "  });\n",
              "\n",
              "  const cancel = document.createElement('button');\n",
              "  inputElement.parentElement.appendChild(cancel);\n",
              "  cancel.textContent = 'Cancel upload';\n",
              "  const cancelPromise = new Promise((resolve) => {\n",
              "    cancel.onclick = () => {\n",
              "      resolve(null);\n",
              "    };\n",
              "  });\n",
              "\n",
              "  // Wait for the user to pick the files.\n",
              "  const files = yield {\n",
              "    promise: Promise.race([pickedPromise, cancelPromise]),\n",
              "    response: {\n",
              "      action: 'starting',\n",
              "    }\n",
              "  };\n",
              "\n",
              "  cancel.remove();\n",
              "\n",
              "  // Disable the input element since further picks are not allowed.\n",
              "  inputElement.disabled = true;\n",
              "\n",
              "  if (!files) {\n",
              "    return {\n",
              "      response: {\n",
              "        action: 'complete',\n",
              "      }\n",
              "    };\n",
              "  }\n",
              "\n",
              "  for (const file of files) {\n",
              "    const li = document.createElement('li');\n",
              "    li.append(span(file.name, {fontWeight: 'bold'}));\n",
              "    li.append(span(\n",
              "        `(${file.type || 'n/a'}) - ${file.size} bytes, ` +\n",
              "        `last modified: ${\n",
              "            file.lastModifiedDate ? file.lastModifiedDate.toLocaleDateString() :\n",
              "                                    'n/a'} - `));\n",
              "    const percent = span('0% done');\n",
              "    li.appendChild(percent);\n",
              "\n",
              "    outputElement.appendChild(li);\n",
              "\n",
              "    const fileDataPromise = new Promise((resolve) => {\n",
              "      const reader = new FileReader();\n",
              "      reader.onload = (e) => {\n",
              "        resolve(e.target.result);\n",
              "      };\n",
              "      reader.readAsArrayBuffer(file);\n",
              "    });\n",
              "    // Wait for the data to be ready.\n",
              "    let fileData = yield {\n",
              "      promise: fileDataPromise,\n",
              "      response: {\n",
              "        action: 'continue',\n",
              "      }\n",
              "    };\n",
              "\n",
              "    // Use a chunked sending to avoid message size limits. See b/62115660.\n",
              "    let position = 0;\n",
              "    do {\n",
              "      const length = Math.min(fileData.byteLength - position, MAX_PAYLOAD_SIZE);\n",
              "      const chunk = new Uint8Array(fileData, position, length);\n",
              "      position += length;\n",
              "\n",
              "      const base64 = btoa(String.fromCharCode.apply(null, chunk));\n",
              "      yield {\n",
              "        response: {\n",
              "          action: 'append',\n",
              "          file: file.name,\n",
              "          data: base64,\n",
              "        },\n",
              "      };\n",
              "\n",
              "      let percentDone = fileData.byteLength === 0 ?\n",
              "          100 :\n",
              "          Math.round((position / fileData.byteLength) * 100);\n",
              "      percent.textContent = `${percentDone}% done`;\n",
              "\n",
              "    } while (position < fileData.byteLength);\n",
              "  }\n",
              "\n",
              "  // All done.\n",
              "  yield {\n",
              "    response: {\n",
              "      action: 'complete',\n",
              "    }\n",
              "  };\n",
              "}\n",
              "\n",
              "scope.google = scope.google || {};\n",
              "scope.google.colab = scope.google.colab || {};\n",
              "scope.google.colab._files = {\n",
              "  _uploadFiles,\n",
              "  _uploadFilesContinue,\n",
              "};\n",
              "})(self);\n",
              "</script> "
            ]
          },
          "metadata": {}
        },
        {
          "output_type": "stream",
          "name": "stdout",
          "text": [
            "Saving sample.log to sample.log\n"
          ]
        }
      ]
    },
    {
      "cell_type": "markdown",
      "source": [
        "Analysis Script"
      ],
      "metadata": {
        "id": "ZkWrB9mXCt2e"
      }
    },
    {
      "cell_type": "code",
      "source": [
        "def parse_log_file(log_file):\n",
        "    \"\"\"Reads the log file and returns lines as a list.\"\"\"\n",
        "    with open(log_file, \"r\") as file:\n",
        "        return file.readlines()\n",
        "\n",
        "def count_requests_per_ip(lines):\n",
        "    \"\"\"Counts the number of requests per IP address.\"\"\"\n",
        "    ip_requests = defaultdict(int)\n",
        "    for line in lines:\n",
        "        match = re.search(r'(\\d+\\.\\d+\\.\\d+\\.\\d+)', line)  # Match IPv4 addresses\n",
        "        if match:\n",
        "            ip = match.group(1)\n",
        "            ip_requests[ip] += 1\n",
        "    return dict(sorted(ip_requests.items(), key=lambda item: item[1], reverse=True))\n",
        "\n",
        "def most_frequent_endpoint(lines):\n",
        "    \"\"\"Finds the most accessed endpoint.\"\"\"\n",
        "    endpoints = defaultdict(int)\n",
        "    for line in lines:\n",
        "        match = re.search(r'\"(?:GET|POST|PUT|DELETE|HEAD|OPTIONS|PATCH)\\s+(\\S+)', line)\n",
        "        if match:\n",
        "            endpoint = match.group(1)\n",
        "            endpoints[endpoint] += 1\n",
        "    if endpoints:\n",
        "        endpoint, count = max(endpoints.items(), key=lambda item: item[1])\n",
        "        return endpoint, count\n",
        "    return None, 0\n",
        "\n",
        "def detect_suspicious_activity(lines, threshold):\n",
        "    \"\"\"Detects suspicious activity based on failed login attempts.\"\"\"\n",
        "    failed_attempts = defaultdict(int)\n",
        "    for line in lines:\n",
        "        if '401' in line or 'Invalid credentials' in line:\n",
        "            match = re.search(r'(\\d+\\.\\d+\\.\\d+\\.\\d+)', line)\n",
        "            if match:\n",
        "                ip = match.group(1)\n",
        "                failed_attempts[ip] += 1\n",
        "    return {ip: count for ip, count in failed_attempts.items() if count > threshold}\n",
        "\n",
        "def save_to_csv(ip_requests, most_accessed, suspicious_activity, output_file):\n",
        "    \"\"\"Saves the results to a CSV file.\"\"\"\n",
        "    with open(output_file, mode='w', newline='') as file:\n",
        "        writer = csv.writer(file)\n",
        "\n",
        "        # Requests per IP\n",
        "        writer.writerow([\"Requests per IP\"])\n",
        "        writer.writerow([\"IP Address\", \"Request Count\"])\n",
        "        for ip, count in ip_requests.items():\n",
        "            writer.writerow([ip, count])\n",
        "\n",
        "        # Most Accessed Endpoint\n",
        "        writer.writerow([])\n",
        "        writer.writerow([\"Most Accessed Endpoint\"])\n",
        "        writer.writerow([\"Endpoint\", \"Access Count\"])\n",
        "        writer.writerow([most_accessed[0], most_accessed[1]])\n",
        "\n",
        "        # Suspicious Activity\n",
        "        writer.writerow([])\n",
        "        writer.writerow([\"Suspicious Activity\"])\n",
        "        writer.writerow([\"IP Address\", \"Failed Login Count\"])\n",
        "        for ip, count in suspicious_activity.items():\n",
        "            writer.writerow([ip, count])\n",
        "\n",
        "def main():\n",
        "    # Step 1: Parse log file\n",
        "    lines = parse_log_file(LOG_FILE)\n",
        "\n",
        "    # Step 2: Count requests per IP\n",
        "    ip_requests = count_requests_per_ip(lines)\n",
        "\n",
        "    # Step 3: Identify the most frequently accessed endpoint\n",
        "    most_accessed = most_frequent_endpoint(lines)\n",
        "\n",
        "    # Step 4: Detect suspicious activity\n",
        "    suspicious_activity = detect_suspicious_activity(lines, FAILED_LOGIN_THRESHOLD)\n",
        "\n",
        "    # Step 5: Display results\n",
        "    print(\"\\nRequests per IP:\")\n",
        "    for ip, count in ip_requests.items():\n",
        "        print(f\"{ip:<20}{count}\")\n",
        "\n",
        "    print(f\"\\nMost Frequently Accessed Endpoint:\\n{most_accessed[0]} (Accessed {most_accessed[1]} times)\")\n",
        "\n",
        "    print(\"\\nSuspicious Activity Detected:\")\n",
        "    if suspicious_activity:\n",
        "        for ip, count in suspicious_activity.items():\n",
        "            print(f\"{ip:<20}{count}\")\n",
        "    else:\n",
        "        print(\"No suspicious activity detected.\")\n",
        "\n",
        "    # Step 6: Save results to CSV\n",
        "    save_to_csv(ip_requests, most_accessed, suspicious_activity, OUTPUT_FILE)\n",
        "    print(f\"\\nResults saved to {OUTPUT_FILE}\")\n",
        "\n",
        "main()"
      ],
      "metadata": {
        "colab": {
          "base_uri": "https://localhost:8080/"
        },
        "id": "j79zIyB09uEO",
        "outputId": "b3bff3ee-e737-4814-ff6f-ea5a3530409e"
      },
      "execution_count": 5,
      "outputs": [
        {
          "output_type": "stream",
          "name": "stdout",
          "text": [
            "\n",
            "Requests per IP:\n",
            "203.0.113.5         8\n",
            "198.51.100.23       8\n",
            "192.168.1.1         7\n",
            "10.0.0.2            6\n",
            "192.168.1.100       5\n",
            "\n",
            "Most Frequently Accessed Endpoint:\n",
            "/login (Accessed 13 times)\n",
            "\n",
            "Suspicious Activity Detected:\n",
            "No suspicious activity detected.\n",
            "\n",
            "Results saved to log_analysis_results.csv\n"
          ]
        }
      ]
    },
    {
      "cell_type": "markdown",
      "source": [
        "Download Results\n",
        "\n",
        "* Run this cell to download the CSV file.\n",
        "\n"
      ],
      "metadata": {
        "id": "bNRO5uJ0C4WL"
      }
    },
    {
      "cell_type": "code",
      "source": [
        "files.download(OUTPUT_FILE)"
      ],
      "metadata": {
        "colab": {
          "base_uri": "https://localhost:8080/",
          "height": 17
        },
        "id": "1MlOWUYq953v",
        "outputId": "4b10f83e-d320-4a89-c017-ec7fb1908610"
      },
      "execution_count": 4,
      "outputs": [
        {
          "output_type": "display_data",
          "data": {
            "text/plain": [
              "<IPython.core.display.Javascript object>"
            ],
            "application/javascript": [
              "\n",
              "    async function download(id, filename, size) {\n",
              "      if (!google.colab.kernel.accessAllowed) {\n",
              "        return;\n",
              "      }\n",
              "      const div = document.createElement('div');\n",
              "      const label = document.createElement('label');\n",
              "      label.textContent = `Downloading \"${filename}\": `;\n",
              "      div.appendChild(label);\n",
              "      const progress = document.createElement('progress');\n",
              "      progress.max = size;\n",
              "      div.appendChild(progress);\n",
              "      document.body.appendChild(div);\n",
              "\n",
              "      const buffers = [];\n",
              "      let downloaded = 0;\n",
              "\n",
              "      const channel = await google.colab.kernel.comms.open(id);\n",
              "      // Send a message to notify the kernel that we're ready.\n",
              "      channel.send({})\n",
              "\n",
              "      for await (const message of channel.messages) {\n",
              "        // Send a message to notify the kernel that we're ready.\n",
              "        channel.send({})\n",
              "        if (message.buffers) {\n",
              "          for (const buffer of message.buffers) {\n",
              "            buffers.push(buffer);\n",
              "            downloaded += buffer.byteLength;\n",
              "            progress.value = downloaded;\n",
              "          }\n",
              "        }\n",
              "      }\n",
              "      const blob = new Blob(buffers, {type: 'application/binary'});\n",
              "      const a = document.createElement('a');\n",
              "      a.href = window.URL.createObjectURL(blob);\n",
              "      a.download = filename;\n",
              "      div.appendChild(a);\n",
              "      a.click();\n",
              "      div.remove();\n",
              "    }\n",
              "  "
            ]
          },
          "metadata": {}
        },
        {
          "output_type": "display_data",
          "data": {
            "text/plain": [
              "<IPython.core.display.Javascript object>"
            ],
            "application/javascript": [
              "download(\"download_27786890-e24a-4e5c-aeb0-57b8c8942ffb\", \"log_analysis_results.csv\", 233)"
            ]
          },
          "metadata": {}
        }
      ]
    }
  ]
}